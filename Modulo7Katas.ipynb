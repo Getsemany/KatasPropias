{
 "cells": [
  {
   "cell_type": "markdown",
   "metadata": {},
   "source": [
    "Ejercicio 1"
   ]
  },
  {
   "cell_type": "code",
   "execution_count": 5,
   "metadata": {},
   "outputs": [],
   "source": [
    "planetas=[]\n",
    "planeta_nuevo=''\n",
    "while planeta_nuevo.lower() !='done' :\n",
    "    if planeta_nuevo :\n",
    "        planetas.append(planeta_nuevo)\n",
    "    planeta_nuevo=input('Ingrese un planeta nuevo o \"done\" para terminar')"
   ]
  },
  {
   "cell_type": "markdown",
   "metadata": {},
   "source": [
    "Ejercicio 2"
   ]
  },
  {
   "cell_type": "code",
   "execution_count": 7,
   "metadata": {},
   "outputs": [
    {
     "name": "stdout",
     "output_type": "stream",
     "text": [
      "Mercurio\n",
      "Venus\n",
      "Tierra\n"
     ]
    }
   ],
   "source": [
    "for planeta_nuevo in planetas:\n",
    "    print(planeta_nuevo)"
   ]
  }
 ],
 "metadata": {
  "interpreter": {
   "hash": "a78129acd29c6f97cd1961b3a4cd42e6075e430f9c502a00ced7489849063fa0"
  },
  "kernelspec": {
   "display_name": "Python 3.10.2 64-bit",
   "language": "python",
   "name": "python3"
  },
  "language_info": {
   "codemirror_mode": {
    "name": "ipython",
    "version": 3
   },
   "file_extension": ".py",
   "mimetype": "text/x-python",
   "name": "python",
   "nbconvert_exporter": "python",
   "pygments_lexer": "ipython3",
   "version": "3.10.2"
  },
  "orig_nbformat": 4
 },
 "nbformat": 4,
 "nbformat_minor": 2
}
